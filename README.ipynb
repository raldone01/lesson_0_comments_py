{
 "cells": [
  {
   "cell_type": "markdown",
   "metadata": {},
   "source": [
    "# Lesson 0 - Comments in Python"
   ]
  },
  {
   "cell_type": "markdown",
   "metadata": {},
   "source": [
    "In this notebook you will learn how to use comments in python. Contrary to other programming languages, python uses comments to pass arguments to functions. This is a very useful feature that allows you to write more readable code.\n",
    "\n",
    "Observe the following `add` function.\n",
    "To add two integers we simply have to call the function and tell it what integers to add in a comment in the same line."
   ]
  },
  {
   "cell_type": "code",
   "execution_count": null,
   "metadata": {},
   "outputs": [
    {
     "name": "stdout",
     "output_type": "stream",
     "text": [
      "Note: you may need to restart the kernel to use updated packages.\n",
      "The autoreload extension is already loaded. To reload it, use:\n",
      "  %reload_ext autoreload\n"
     ]
    }
   ],
   "source": [
    "%pip install -q icecream\n",
    "\n",
    "%load_ext autoreload\n",
    "%autoreload 2\n",
    "\n",
    "from icecream import ic\n",
    "\n",
    "from lib import add"
   ]
  },
  {
   "cell_type": "code",
   "execution_count": null,
   "metadata": {},
   "outputs": [
    {
     "name": "stderr",
     "output_type": "stream",
     "text": [
      "ic| source_code: 'result = add() # 1 2 '\n",
      "ic| result: 3\n",
      "ic| source_code: 'result = add() # 3 4 '\n",
      "ic| result: 7\n",
      "ic| source_code: 'result = add() # 3 4 5 20 '\n",
      "ic| result: 32\n"
     ]
    },
    {
     "data": {
      "text/plain": [
       "32"
      ]
     },
     "execution_count": 12,
     "metadata": {},
     "output_type": "execute_result"
    }
   ],
   "source": [
    "# Go ahead and change the comments.\n",
    "# See how python uses them as arguments.s\n",
    "\n",
    "result = add()  # 1 2\n",
    "ic(result)\n",
    "result = add()  # 3 4\n",
    "ic(result)\n",
    "result = add()  # 3 4 5 20\n",
    "ic(result)"
   ]
  }
 ],
 "metadata": {
  "kernelspec": {
   "display_name": ".venv",
   "language": "python",
   "name": "python3"
  },
  "language_info": {
   "codemirror_mode": {
    "name": "ipython",
    "version": 3
   },
   "file_extension": ".py",
   "mimetype": "text/x-python",
   "name": "python",
   "nbconvert_exporter": "python",
   "pygments_lexer": "ipython3",
   "version": "3.12.7"
  }
 },
 "nbformat": 4,
 "nbformat_minor": 2
}
