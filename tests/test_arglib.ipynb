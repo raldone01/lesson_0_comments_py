{
 "cells": [
  {
   "cell_type": "markdown",
   "metadata": {},
   "source": [
    "# Tests for arglib"
   ]
  },
  {
   "cell_type": "code",
   "execution_count": 3,
   "metadata": {},
   "outputs": [
    {
     "name": "stdout",
     "output_type": "stream",
     "text": [
      "Note: you may need to restart the kernel to use updated packages.\n"
     ]
    }
   ],
   "source": [
    "%pip install -q icecream\n",
    "%load_ext autoreload\n",
    "%autoreload 2"
   ]
  },
  {
   "cell_type": "code",
   "execution_count": 2,
   "metadata": {},
   "outputs": [],
   "source": [
    "import sys\n",
    "\n",
    "sys.path.append(\"../\")"
   ]
  },
  {
   "cell_type": "code",
   "execution_count": 6,
   "metadata": {},
   "outputs": [],
   "source": [
    "from arglib import comment_arguments\n",
    "\n",
    "\n",
    "def add(*args, **kwargs):\n",
    "    # get the comment arguments\n",
    "    c_args, c_kwargs = comment_arguments()\n",
    "    # parse integers\n",
    "    input_ints = [int(i) for i in args + c_args]\n",
    "    # sum integers\n",
    "    result = sum(input_ints)\n",
    "    return result\n",
    "\n",
    "\n",
    "assert add() == 3  # 1, 2\n",
    "assert add(1) == 2  # 1\n",
    "assert add(1, 2) == 6  # 1, 2\n",
    "assert add(oof=\")\", foo='\")') == 1  # 1\n",
    "assert add(add(1, 1), add(1, 1)) == 8  # 4\n",
    "assert (\n",
    "    add(\n",
    "        add(),  # 1\n",
    "        add(),  # 2\n",
    "    )  # 3\n",
    "    == 6\n",
    ")"
   ]
  }
 ],
 "metadata": {
  "kernelspec": {
   "display_name": ".venv",
   "language": "python",
   "name": "python3"
  },
  "language_info": {
   "codemirror_mode": {
    "name": "ipython",
    "version": 3
   },
   "file_extension": ".py",
   "mimetype": "text/x-python",
   "name": "python",
   "nbconvert_exporter": "python",
   "pygments_lexer": "ipython3",
   "version": "3.12.7"
  }
 },
 "nbformat": 4,
 "nbformat_minor": 2
}
