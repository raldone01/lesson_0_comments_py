{
 "cells": [
  {
   "cell_type": "markdown",
   "metadata": {},
   "source": [
    "# Lesson 0 - Comments in Python"
   ]
  },
  {
   "cell_type": "markdown",
   "metadata": {},
   "source": [
    "In this notebook you will learn how to use comments in python. Contrary to other programming languages, python uses comments to pass arguments to functions. This is a very useful feature that allows you to write more readable code.\n",
    "\n",
    "Observe the following `add` function.\n",
    "To add two integers we simply have to call the function and tell it what integers to add in a comment in the same line."
   ]
  },
  {
   "cell_type": "code",
   "execution_count": 5,
   "metadata": {},
   "outputs": [
    {
     "name": "stdout",
     "output_type": "stream",
     "text": [
      "The autoreload extension is already loaded. To reload it, use:\n",
      "  %reload_ext autoreload\n"
     ]
    }
   ],
   "source": [
    "%load_ext autoreload\n",
    "%autoreload 2"
   ]
  },
  {
   "cell_type": "code",
   "execution_count": null,
   "metadata": {},
   "outputs": [
    {
     "name": "stdout",
     "output_type": "stream",
     "text": [
      "3\n",
      "10\n",
      "5\n",
      "24\n"
     ]
    }
   ],
   "source": [
    "# First we have to import comment_arguments from arglib\n",
    "# Sadly arglib is not yet a standard library.\n",
    "from arglib import comment_arguments\n",
    "\n",
    "\n",
    "def add(*args, **kwargs):\n",
    "    # get the comment arguments\n",
    "    c_args, c_kwargs = comment_arguments()\n",
    "    # parse integers\n",
    "    input_ints = [int(i) for i in args + c_args]\n",
    "    # sum integers\n",
    "    result = sum(input_ints)\n",
    "    return result\n",
    "\n",
    "\n",
    "# Go ahead and change the comments.\n",
    "# See how python uses them as arguments.\n",
    "\n",
    "result = add()  # 1, 2\n",
    "print(result)\n",
    "# comment arguments can be combined with normal function arguments\n",
    "result = add(1, 2)  # 3, 4\n",
    "print(result)\n",
    "result = add(\n",
    "    add(1)  # 2\n",
    ")  # 2\n",
    "print(result)\n",
    "result = add(add(1, a=\")\"))  # 23\n",
    "print(result)"
   ]
  }
 ],
 "metadata": {
  "kernelspec": {
   "display_name": ".venv",
   "language": "python",
   "name": "python3"
  },
  "language_info": {
   "codemirror_mode": {
    "name": "ipython",
    "version": 3
   },
   "file_extension": ".py",
   "mimetype": "text/x-python",
   "name": "python",
   "nbconvert_exporter": "python",
   "pygments_lexer": "ipython3",
   "version": "3.12.7"
  }
 },
 "nbformat": 4,
 "nbformat_minor": 2
}
